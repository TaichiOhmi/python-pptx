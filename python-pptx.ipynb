{
 "cells": [
  {
   "cell_type": "code",
   "execution_count": 1,
   "metadata": {},
   "outputs": [],
   "source": [
    "from pptx import Presentation\n",
    "from pptx.util import Inches, Pt, Cm\n",
    "\n",
    "import datetime"
   ]
  },
  {
   "cell_type": "code",
   "execution_count": 2,
   "metadata": {},
   "outputs": [],
   "source": [
    "now = datetime.datetime.now() # 現在時刻の取得\n",
    "today = now.strftime('%Y年%m月%d日') # 現在時刻を年月曜日で表示\n",
    "\n",
    "save_name = 'first.pptx' # 保存用のパワポのファイル名\n",
    "prs = Presentation() # Presentationクラスをインスタンス化"
   ]
  },
  {
   "cell_type": "code",
   "execution_count": 3,
   "metadata": {},
   "outputs": [],
   "source": [
    "# スライドのレイアウトを選ぶ。 0~8までの9通りある。\n",
    "Layout = prs.slide_layouts[0]\n",
    "# スライドのレイアウトを最初のスライドに設定。\n",
    "first_slide = prs.slides.add_slide(Layout)\n",
    "# レイアウトの中のタイトルのテキストを設定\n",
    "first_slide.shapes.title.text = \"Creating a powerpoint using Python\"\n",
    "# プレースホルダーの２つ目のテキストを設定\n",
    "first_slide.placeholders[1].text = \"Created by Tutorialpoints\"\n",
    "# スライドを名前を指定して保存\n",
    "prs.save(\"First_presentation.pptx\")"
   ]
  },
  {
   "cell_type": "code",
   "execution_count": null,
   "metadata": {},
   "outputs": [],
   "source": []
  }
 ],
 "metadata": {
  "interpreter": {
   "hash": "aee8b7b246df8f9039afb4144a1f6fd8d2ca17a180786b69acc140d282b71a49"
  },
  "kernelspec": {
   "display_name": "Python 3.8.1 64-bit",
   "language": "python",
   "name": "python3"
  },
  "language_info": {
   "codemirror_mode": {
    "name": "ipython",
    "version": 3
   },
   "file_extension": ".py",
   "mimetype": "text/x-python",
   "name": "python",
   "nbconvert_exporter": "python",
   "pygments_lexer": "ipython3",
   "version": "3.8.1"
  },
  "orig_nbformat": 4
 },
 "nbformat": 4,
 "nbformat_minor": 2
}
